{
  "nbformat": 4,
  "nbformat_minor": 0,
  "metadata": {
    "colab": {
      "provenance": []
    },
    "kernelspec": {
      "name": "python3",
      "display_name": "Python 3"
    },
    "language_info": {
      "name": "python"
    }
  },
  "cells": [
    {
      "cell_type": "markdown",
      "source": [
        "# Documentação\n",
        "## Subtítulo\n"
      ],
      "metadata": {
        "id": "jp8tzsZ8kcaN"
      }
    },
    {
      "cell_type": "code",
      "source": [
        "print('Olá Mundo')"
      ],
      "metadata": {
        "colab": {
          "base_uri": "https://localhost:8080/"
        },
        "id": "vlFaTfAxkMLO",
        "outputId": "54481b0c-6350-42f7-b160-9cca0f0db22f"
      },
      "execution_count": null,
      "outputs": [
        {
          "output_type": "stream",
          "name": "stdout",
          "text": [
            "Olá Mundo\n"
          ]
        }
      ]
    },
    {
      "cell_type": "markdown",
      "source": [
        "# Operadores Aritméticos"
      ],
      "metadata": {
        "id": "cOgdj3Ujng3U"
      }
    },
    {
      "cell_type": "code",
      "source": [
        "# adição\n",
        "10 + 2"
      ],
      "metadata": {
        "colab": {
          "base_uri": "https://localhost:8080/"
        },
        "id": "24elCgFYnl_C",
        "outputId": "4e0d32a9-1077-4a9f-839c-407942370f73"
      },
      "execution_count": null,
      "outputs": [
        {
          "output_type": "execute_result",
          "data": {
            "text/plain": [
              "12"
            ]
          },
          "metadata": {},
          "execution_count": 5
        }
      ]
    },
    {
      "cell_type": "code",
      "source": [
        "# Subtração\n",
        "10 - 2"
      ],
      "metadata": {
        "colab": {
          "base_uri": "https://localhost:8080/"
        },
        "id": "afoCDpn4nrln",
        "outputId": "e725fe76-ce42-44c8-fd71-d1db2ec1b63f"
      },
      "execution_count": null,
      "outputs": [
        {
          "output_type": "execute_result",
          "data": {
            "text/plain": [
              "8"
            ]
          },
          "metadata": {},
          "execution_count": 6
        }
      ]
    },
    {
      "cell_type": "code",
      "source": [
        "# Multiplicação\n",
        "10 * 2"
      ],
      "metadata": {
        "colab": {
          "base_uri": "https://localhost:8080/"
        },
        "id": "e2mwiiYPnwEI",
        "outputId": "acf26130-f6b0-4a8f-9eb5-eab2fe891c8c"
      },
      "execution_count": null,
      "outputs": [
        {
          "output_type": "execute_result",
          "data": {
            "text/plain": [
              "20"
            ]
          },
          "metadata": {},
          "execution_count": 7
        }
      ]
    },
    {
      "cell_type": "code",
      "source": [
        "# Divisão\n",
        "10 / 2"
      ],
      "metadata": {
        "colab": {
          "base_uri": "https://localhost:8080/"
        },
        "id": "LSTZqzFqn0nv",
        "outputId": "232d756d-0408-47d9-c81a-b8dc9d96e155"
      },
      "execution_count": null,
      "outputs": [
        {
          "output_type": "execute_result",
          "data": {
            "text/plain": [
              "5.0"
            ]
          },
          "metadata": {},
          "execution_count": 8
        }
      ]
    },
    {
      "cell_type": "code",
      "source": [
        "# Divisão Inteira\n",
        "10 // 2"
      ],
      "metadata": {
        "colab": {
          "base_uri": "https://localhost:8080/"
        },
        "id": "ZH1-HnEqn3OX",
        "outputId": "1a8cd038-56d3-4d50-92d4-c488cf4b9587"
      },
      "execution_count": null,
      "outputs": [
        {
          "output_type": "execute_result",
          "data": {
            "text/plain": [
              "5"
            ]
          },
          "metadata": {},
          "execution_count": 9
        }
      ]
    },
    {
      "cell_type": "code",
      "source": [
        "# Resto de Divisão\n",
        "10 % 2"
      ],
      "metadata": {
        "colab": {
          "base_uri": "https://localhost:8080/"
        },
        "id": "E7cK59R9n65v",
        "outputId": "945d8096-b212-430d-d203-5de76b3848f1"
      },
      "execution_count": null,
      "outputs": [
        {
          "output_type": "execute_result",
          "data": {
            "text/plain": [
              "0"
            ]
          },
          "metadata": {},
          "execution_count": 10
        }
      ]
    },
    {
      "cell_type": "code",
      "source": [
        "# Potenciação\n",
        "10 **2"
      ],
      "metadata": {
        "colab": {
          "base_uri": "https://localhost:8080/"
        },
        "id": "3mfdWtoWn_dG",
        "outputId": "6e1eaf4b-32fd-4a8e-d014-cc1ac304e1a1"
      },
      "execution_count": null,
      "outputs": [
        {
          "output_type": "execute_result",
          "data": {
            "text/plain": [
              "100"
            ]
          },
          "metadata": {},
          "execution_count": 11
        }
      ]
    },
    {
      "cell_type": "markdown",
      "source": [
        "# Operadores Relacionais"
      ],
      "metadata": {
        "id": "SNd_N8TPoJF-"
      }
    },
    {
      "cell_type": "code",
      "source": [
        "# Menor\n",
        "10 < 2"
      ],
      "metadata": {
        "colab": {
          "base_uri": "https://localhost:8080/"
        },
        "id": "X9PUjnPaoMip",
        "outputId": "a6d81608-4281-45ba-cc74-1b117e0dbfd7"
      },
      "execution_count": null,
      "outputs": [
        {
          "output_type": "execute_result",
          "data": {
            "text/plain": [
              "False"
            ]
          },
          "metadata": {},
          "execution_count": 12
        }
      ]
    },
    {
      "cell_type": "code",
      "source": [
        "# Menor ou igual\n",
        "10 <= 2"
      ],
      "metadata": {
        "colab": {
          "base_uri": "https://localhost:8080/"
        },
        "id": "coCeakkboRj0",
        "outputId": "c75723cb-e3c5-4818-c2fa-bebd7b4db4f9"
      },
      "execution_count": null,
      "outputs": [
        {
          "output_type": "execute_result",
          "data": {
            "text/plain": [
              "False"
            ]
          },
          "metadata": {},
          "execution_count": 14
        }
      ]
    },
    {
      "cell_type": "code",
      "source": [
        "# Maior\n",
        "10 > 2"
      ],
      "metadata": {
        "colab": {
          "base_uri": "https://localhost:8080/"
        },
        "id": "3amw3MXEoUYD",
        "outputId": "10ab53fc-e249-4544-ef4c-3efe628f3714"
      },
      "execution_count": null,
      "outputs": [
        {
          "output_type": "execute_result",
          "data": {
            "text/plain": [
              "True"
            ]
          },
          "metadata": {},
          "execution_count": 15
        }
      ]
    },
    {
      "cell_type": "code",
      "source": [
        "# Maior ou Igual\n",
        "10 >- 2"
      ],
      "metadata": {
        "colab": {
          "base_uri": "https://localhost:8080/"
        },
        "id": "9tgT-eUJoWbb",
        "outputId": "fbb5f752-c066-40a5-9f3a-fb3a62418f75"
      },
      "execution_count": null,
      "outputs": [
        {
          "output_type": "execute_result",
          "data": {
            "text/plain": [
              "True"
            ]
          },
          "metadata": {},
          "execution_count": 16
        }
      ]
    },
    {
      "cell_type": "code",
      "source": [
        "# Igual\n",
        "7 == 7"
      ],
      "metadata": {
        "colab": {
          "base_uri": "https://localhost:8080/"
        },
        "id": "aYU-xZwHodAC",
        "outputId": "efb998e9-7194-4eb9-c405-909924d698c5"
      },
      "execution_count": null,
      "outputs": [
        {
          "output_type": "execute_result",
          "data": {
            "text/plain": [
              "True"
            ]
          },
          "metadata": {},
          "execution_count": 17
        }
      ]
    },
    {
      "cell_type": "code",
      "source": [
        "# Diferente\n",
        "7 != 7"
      ],
      "metadata": {
        "colab": {
          "base_uri": "https://localhost:8080/"
        },
        "id": "R5X7oAHYohfK",
        "outputId": "242322cc-9bd0-40d8-981c-b416515b128f"
      },
      "execution_count": null,
      "outputs": [
        {
          "output_type": "execute_result",
          "data": {
            "text/plain": [
              "True"
            ]
          },
          "metadata": {},
          "execution_count": 19
        }
      ]
    },
    {
      "cell_type": "markdown",
      "source": [
        "# Operadores Lógicos\n",
        "\n",
        "\n",
        "* And\n",
        "* Or\n",
        "* Not\n",
        "\n"
      ],
      "metadata": {
        "id": "6DULShkOo3eF"
      }
    },
    {
      "cell_type": "markdown",
      "source": [
        "## Tabela Verdade\n",
        "\n",
        "And"
      ],
      "metadata": {
        "id": "Jtz3TpydpPqi"
      }
    },
    {
      "cell_type": "code",
      "source": [
        "print(10 > 2 and 4 < 6) # V and V - V\n",
        "print(10 > 2 and 4 > 6) # V and F - F\n",
        "print(10 < 2 and 4 < 6) # V and F - F\n",
        "print(10 < 2 and 4 > 6) # F and F - F"
      ],
      "metadata": {
        "colab": {
          "base_uri": "https://localhost:8080/"
        },
        "id": "LvkcX2NJpTAi",
        "outputId": "394fcc86-e54c-4f9f-8b29-070e4f919327"
      },
      "execution_count": null,
      "outputs": [
        {
          "output_type": "stream",
          "name": "stdout",
          "text": [
            "True\n",
            "False\n",
            "False\n",
            "False\n"
          ]
        }
      ]
    },
    {
      "cell_type": "markdown",
      "source": [
        "Or"
      ],
      "metadata": {
        "id": "5Liq1BEOp4bg"
      }
    },
    {
      "cell_type": "code",
      "source": [
        "print(10 > 2 or 4 < 6) # V or V - V\n",
        "print(10 > 2 or 4 > 6) # V or F - V\n",
        "print(10 < 2 or 4 < 6) # V or F - V\n",
        "print(10 < 2 or 4 > 6) # F or F - F"
      ],
      "metadata": {
        "colab": {
          "base_uri": "https://localhost:8080/"
        },
        "id": "ssTnQ4T_pf2q",
        "outputId": "af98bedc-07f8-422e-91d7-975f4bbbc2fb"
      },
      "execution_count": null,
      "outputs": [
        {
          "output_type": "stream",
          "name": "stdout",
          "text": [
            "True\n",
            "True\n",
            "True\n",
            "False\n"
          ]
        }
      ]
    },
    {
      "cell_type": "markdown",
      "source": [
        "Not"
      ],
      "metadata": {
        "id": "xj8aEL1JqX4s"
      }
    },
    {
      "cell_type": "code",
      "source": [
        "not 10 > 2 # V - F"
      ],
      "metadata": {
        "colab": {
          "base_uri": "https://localhost:8080/"
        },
        "id": "H7XG_G03qZda",
        "outputId": "fdcb2c83-81e8-4157-9372-4b323950b39f"
      },
      "execution_count": null,
      "outputs": [
        {
          "output_type": "execute_result",
          "data": {
            "text/plain": [
              "False"
            ]
          },
          "metadata": {},
          "execution_count": 24
        }
      ]
    },
    {
      "cell_type": "code",
      "source": [
        "not 10 < 2 # F - V"
      ],
      "metadata": {
        "colab": {
          "base_uri": "https://localhost:8080/"
        },
        "id": "Cf1PZmXAqfVs",
        "outputId": "e6744da0-d037-4e70-bff5-6c020cbeba4d"
      },
      "execution_count": null,
      "outputs": [
        {
          "output_type": "execute_result",
          "data": {
            "text/plain": [
              "True"
            ]
          },
          "metadata": {},
          "execution_count": 25
        }
      ]
    },
    {
      "cell_type": "markdown",
      "source": [
        "## Variáveis\n",
        "\n",
        "Variáveis estão alocados em espaços da memória"
      ],
      "metadata": {
        "id": "Rss9yLTlqrhl"
      }
    },
    {
      "cell_type": "code",
      "source": [
        "# Nome da variável é \"x\" que armazena o valor 10 em um espaço na memória\n",
        "x = 10\n",
        "\n",
        "print(x) # utilizar a referencia no nome atribuido"
      ],
      "metadata": {
        "colab": {
          "base_uri": "https://localhost:8080/"
        },
        "id": "QaUgRKMVqu25",
        "outputId": "23df7eae-d872-4b4b-840d-1ad1069e1ee1"
      },
      "execution_count": null,
      "outputs": [
        {
          "output_type": "stream",
          "name": "stdout",
          "text": [
            "10\n"
          ]
        }
      ]
    },
    {
      "cell_type": "markdown",
      "source": [
        "# VIsualização de Variáveis e Textos"
      ],
      "metadata": {
        "id": "dAmi7_VGxcYS"
      }
    },
    {
      "cell_type": "code",
      "source": [
        "print('Conhecendo o comando Print')\n",
        "\n",
        "x = 8\n",
        "print(x)"
      ],
      "metadata": {
        "colab": {
          "base_uri": "https://localhost:8080/"
        },
        "id": "rTxk0_IovCy5",
        "outputId": "df21966e-9a46-49ea-e775-8e458c3c8c64"
      },
      "execution_count": null,
      "outputs": [
        {
          "output_type": "stream",
          "name": "stdout",
          "text": [
            "Conhecendo o comando Print\n",
            "8\n"
          ]
        }
      ]
    },
    {
      "cell_type": "code",
      "source": [
        "y = 10\n",
        "soma = x + y\n",
        "print(soma)"
      ],
      "metadata": {
        "colab": {
          "base_uri": "https://localhost:8080/"
        },
        "id": "lqogESYZxr09",
        "outputId": "aaf58be8-7fde-4537-b58a-5727af1401fd"
      },
      "execution_count": null,
      "outputs": [
        {
          "output_type": "stream",
          "name": "stdout",
          "text": [
            "18\n"
          ]
        }
      ]
    },
    {
      "cell_type": "code",
      "source": [
        "nome = 'Diego Moura'\n",
        "print(nome)"
      ],
      "metadata": {
        "colab": {
          "base_uri": "https://localhost:8080/"
        },
        "id": "0ZV0burTx7Az",
        "outputId": "092ebd01-aa3e-4115-b778-fc64fcfedbd8"
      },
      "execution_count": null,
      "outputs": [
        {
          "output_type": "stream",
          "name": "stdout",
          "text": [
            "Diego Moura\n"
          ]
        }
      ]
    },
    {
      "cell_type": "markdown",
      "source": [
        "## Concatenação"
      ],
      "metadata": {
        "id": "if41V2OlyE7r"
      }
    },
    {
      "cell_type": "code",
      "source": [
        "x = 5\n",
        "print('O valor de x é', x)"
      ],
      "metadata": {
        "colab": {
          "base_uri": "https://localhost:8080/"
        },
        "id": "8k_njoRSyBmK",
        "outputId": "ccb67f7c-3d9a-4cd6-b6dd-d998cf1044a4"
      },
      "execution_count": null,
      "outputs": [
        {
          "output_type": "stream",
          "name": "stdout",
          "text": [
            "O valor de x é 5\n"
          ]
        }
      ]
    },
    {
      "cell_type": "code",
      "source": [
        "print('O valor de x é', x, 'e o dobro é', x * 2)"
      ],
      "metadata": {
        "colab": {
          "base_uri": "https://localhost:8080/"
        },
        "id": "Di6Tg8yUybjv",
        "outputId": "4c55074b-4d0d-40cd-f0d0-0aea6d8886b4"
      },
      "execution_count": null,
      "outputs": [
        {
          "output_type": "stream",
          "name": "stdout",
          "text": [
            "O valor de x é 5 e o dobro é 10\n"
          ]
        }
      ]
    },
    {
      "cell_type": "code",
      "source": [
        "print('Eu,', nome, 'tirei', x, 'na prova de Python')"
      ],
      "metadata": {
        "colab": {
          "base_uri": "https://localhost:8080/"
        },
        "id": "4nWxPJIeyjM2",
        "outputId": "4cb1acc8-ab72-422f-bbee-2875af5d6cf7"
      },
      "execution_count": null,
      "outputs": [
        {
          "output_type": "stream",
          "name": "stdout",
          "text": [
            "Eu, Diego Moura tirei 5 na prova de Python\n"
          ]
        }
      ]
    },
    {
      "cell_type": "code",
      "source": [
        "y = 10; z = 20 + x - y\n",
        "\n",
        "print('Declarar várias variáveis na mesma linha:', y, z)"
      ],
      "metadata": {
        "colab": {
          "base_uri": "https://localhost:8080/"
        },
        "id": "QuLVh6TuysCd",
        "outputId": "72719c68-14e9-43d8-f15b-e3f39d01be03"
      },
      "execution_count": null,
      "outputs": [
        {
          "output_type": "stream",
          "name": "stdout",
          "text": [
            "Declarar várias variáveis na mesma linha: 10 15\n"
          ]
        }
      ]
    },
    {
      "cell_type": "code",
      "source": [
        "ano = 1993\n",
        "print('Eu,', nome, \"nasci no ano de\", ano)"
      ],
      "metadata": {
        "colab": {
          "base_uri": "https://localhost:8080/"
        },
        "id": "yfR_lH9yzOZj",
        "outputId": "74cdbc3b-773c-40a7-d60b-806082450907"
      },
      "execution_count": null,
      "outputs": [
        {
          "output_type": "stream",
          "name": "stdout",
          "text": [
            "Eu, Diego Moura nasci no ano de 1993\n"
          ]
        }
      ]
    },
    {
      "cell_type": "code",
      "source": [
        "nome_2 = 'Marcela Costa'\n",
        "\n",
        "print('O', nome, 'é casado com a', nome_2)"
      ],
      "metadata": {
        "colab": {
          "base_uri": "https://localhost:8080/"
        },
        "id": "m2Gpczga0Gcm",
        "outputId": "a5b89e17-4a8f-4ea3-ec31-5243aae7fda4"
      },
      "execution_count": null,
      "outputs": [
        {
          "output_type": "stream",
          "name": "stdout",
          "text": [
            "O Diego Moura é casado com a Marcela Costa\n"
          ]
        }
      ]
    },
    {
      "cell_type": "markdown",
      "source": [
        "Type"
      ],
      "metadata": {
        "id": "5xH21UNMzFRW"
      }
    },
    {
      "cell_type": "code",
      "source": [
        "x = 10\n",
        "type(x)\n",
        "print('x', type(x))\n",
        "\n",
        "nome= 'Diego'\n",
        "print('nome', type(nome))\n",
        "\n",
        "num = '100'\n",
        "num_convert = int(num) # Converter variável\n",
        "print('num', type(num))\n",
        "print('num_conver', type(num_convert))\n",
        "\n",
        "num_float = float(num)\n",
        "print('num_float', num_float)"
      ],
      "metadata": {
        "colab": {
          "base_uri": "https://localhost:8080/"
        },
        "id": "xaOZFqyMy-bb",
        "outputId": "7f19c3eb-4223-43b7-9a13-35446983ed37"
      },
      "execution_count": null,
      "outputs": [
        {
          "output_type": "stream",
          "name": "stdout",
          "text": [
            "x <class 'int'>\n",
            "nome <class 'str'>\n",
            "num <class 'str'>\n",
            "num_conver <class 'int'>\n",
            "num_float 100.0\n"
          ]
        }
      ]
    },
    {
      "cell_type": "code",
      "source": [
        "x = 10\n",
        "type(x)"
      ],
      "metadata": {
        "colab": {
          "base_uri": "https://localhost:8080/"
        },
        "id": "R5Z-3a1e1wGi",
        "outputId": "cb87923c-22e5-4a63-dbb9-e7ebf4943f92"
      },
      "execution_count": null,
      "outputs": [
        {
          "output_type": "execute_result",
          "data": {
            "text/plain": [
              "int"
            ]
          },
          "metadata": {},
          "execution_count": 55
        }
      ]
    },
    {
      "cell_type": "markdown",
      "source": [
        "Input\n",
        "\n",
        "* Armazenar a informaão digitada pele usuário em uma variável\n",
        "* O dado armazenado sempre será um texto"
      ],
      "metadata": {
        "id": "Jp0pwzmW16Du"
      }
    },
    {
      "cell_type": "code",
      "source": [
        "nome = input(\"Digite o nome do usuário \") # aguarda o usuário digitar algo\n",
        "print(nome)"
      ],
      "metadata": {
        "colab": {
          "base_uri": "https://localhost:8080/"
        },
        "id": "OJg_mI3c1yIa",
        "outputId": "0610ae45-5e54-4549-ca74-6ba9a833ba57"
      },
      "execution_count": null,
      "outputs": [
        {
          "output_type": "stream",
          "name": "stdout",
          "text": [
            "Digite o nome do usuário Diego\n",
            "Diego\n"
          ]
        }
      ]
    },
    {
      "cell_type": "code",
      "source": [
        "valor = input('Digite a nota ')\n",
        "\n",
        "print(nome, 'sua nota foi', valor)\n"
      ],
      "metadata": {
        "colab": {
          "base_uri": "https://localhost:8080/"
        },
        "id": "2XwLQlz66LMt",
        "outputId": "6a684944-01d8-4e0c-8ea2-16be27230bfc"
      },
      "execution_count": null,
      "outputs": [
        {
          "output_type": "stream",
          "name": "stdout",
          "text": [
            "Digite a nota 10\n",
            "Diego sua nota foi 10\n"
          ]
        }
      ]
    },
    {
      "cell_type": "code",
      "source": [
        "valor = input('Digite o valor do produto: ')\n",
        "print(valor)"
      ],
      "metadata": {
        "colab": {
          "base_uri": "https://localhost:8080/"
        },
        "id": "Osj8r3cx6gYz",
        "outputId": "c145a832-2066-4e7b-d129-e2e6b33d0ab0"
      },
      "execution_count": null,
      "outputs": [
        {
          "output_type": "stream",
          "name": "stdout",
          "text": [
            "Digite o valor do produto: 100\n",
            "100\n"
          ]
        }
      ]
    },
    {
      "cell_type": "code",
      "source": [
        "desconto = valor - 5"
      ],
      "metadata": {
        "colab": {
          "base_uri": "https://localhost:8080/",
          "height": 141
        },
        "id": "_MSOR-E_6yyx",
        "outputId": "1ca23f01-a919-49c7-a13a-bd7a4bad1e51"
      },
      "execution_count": null,
      "outputs": [
        {
          "output_type": "error",
          "ename": "TypeError",
          "evalue": "unsupported operand type(s) for -: 'str' and 'int'",
          "traceback": [
            "\u001b[0;31m---------------------------------------------------------------------------\u001b[0m",
            "\u001b[0;31mTypeError\u001b[0m                                 Traceback (most recent call last)",
            "\u001b[0;32m<ipython-input-60-4693ea9a50ed>\u001b[0m in \u001b[0;36m<cell line: 1>\u001b[0;34m()\u001b[0m\n\u001b[0;32m----> 1\u001b[0;31m \u001b[0mdesconto\u001b[0m \u001b[0;34m=\u001b[0m \u001b[0mvalor\u001b[0m \u001b[0;34m-\u001b[0m \u001b[0;36m5\u001b[0m\u001b[0;34m\u001b[0m\u001b[0;34m\u001b[0m\u001b[0m\n\u001b[0m",
            "\u001b[0;31mTypeError\u001b[0m: unsupported operand type(s) for -: 'str' and 'int'"
          ]
        }
      ]
    },
    {
      "cell_type": "code",
      "source": [
        "valor_convert = int(valor)\n",
        "desconto = valor_convert - 5\n",
        "print(desconto)"
      ],
      "metadata": {
        "colab": {
          "base_uri": "https://localhost:8080/"
        },
        "id": "x-wsAd2V62Kg",
        "outputId": "418a452f-29ff-4a87-85e2-e4f887d2efd4"
      },
      "execution_count": null,
      "outputs": [
        {
          "output_type": "stream",
          "name": "stdout",
          "text": [
            "95\n"
          ]
        }
      ]
    },
    {
      "cell_type": "code",
      "source": [
        "desconto = int(valor) - 5\n",
        "print(desconto)"
      ],
      "metadata": {
        "colab": {
          "base_uri": "https://localhost:8080/"
        },
        "id": "EGuBMWHe7ADo",
        "outputId": "daf77d57-3eea-4d79-d338-964d47de9850"
      },
      "execution_count": null,
      "outputs": [
        {
          "output_type": "stream",
          "name": "stdout",
          "text": [
            "95\n"
          ]
        }
      ]
    },
    {
      "cell_type": "markdown",
      "source": [
        "# Condicional"
      ],
      "metadata": {
        "id": "Ktf4qiaqKukC"
      }
    },
    {
      "cell_type": "code",
      "source": [
        "# if\n",
        "if 5 < 10:\n",
        "  print('Verdadeiro')"
      ],
      "metadata": {
        "colab": {
          "base_uri": "https://localhost:8080/"
        },
        "id": "UYVvhfXJKwEC",
        "outputId": "38c42fbe-8182-4878-af7f-ec5c76f7337b"
      },
      "execution_count": null,
      "outputs": [
        {
          "output_type": "stream",
          "name": "stdout",
          "text": [
            "Verdadeiro\n"
          ]
        }
      ]
    },
    {
      "cell_type": "code",
      "source": [
        "# if/else\n",
        "num1 = 10\n",
        "num2 = 5\n",
        "if num1 > num2:\n",
        "  print('O num1 é o maior número')\n",
        "\n",
        "else:\n",
        "    print('O num2 é o maior número')"
      ],
      "metadata": {
        "colab": {
          "base_uri": "https://localhost:8080/"
        },
        "id": "p51Ft3xLKyOB",
        "outputId": "ef00dbbb-e5f5-47dc-fa6c-8879c523e49e"
      },
      "execution_count": null,
      "outputs": [
        {
          "output_type": "stream",
          "name": "stdout",
          "text": [
            "O num1 é o maior número\n"
          ]
        }
      ]
    },
    {
      "cell_type": "code",
      "source": [
        "# if / elf / else\n",
        "num1 = 15\n",
        "num2 = 10\n",
        "if num1 > num2:\n",
        "  print('O num1 é o maior número')\n",
        "\n",
        "elif num1 < num2:\n",
        "    print('O num2 é o maior número')\n",
        "\n",
        "else:\n",
        "    print('Os números são iguais')"
      ],
      "metadata": {
        "colab": {
          "base_uri": "https://localhost:8080/"
        },
        "id": "kvybjO-WLYFP",
        "outputId": "47dea79f-f524-4e7c-a259-05506f230dcf"
      },
      "execution_count": null,
      "outputs": [
        {
          "output_type": "stream",
          "name": "stdout",
          "text": [
            "O num1 é o maior número\n"
          ]
        }
      ]
    },
    {
      "cell_type": "code",
      "source": [
        "# for range\n",
        "for contador in range(10):\n",
        "  print(contador)\n"
      ],
      "metadata": {
        "colab": {
          "base_uri": "https://localhost:8080/"
        },
        "id": "WyL_qJT4L8sJ",
        "outputId": "24a51b5b-230a-46a4-ac21-9f765a63f6a8"
      },
      "execution_count": null,
      "outputs": [
        {
          "output_type": "stream",
          "name": "stdout",
          "text": [
            "0\n",
            "1\n",
            "2\n",
            "3\n",
            "4\n",
            "5\n",
            "6\n",
            "7\n",
            "8\n",
            "9\n"
          ]
        }
      ]
    },
    {
      "cell_type": "code",
      "source": [
        "# For Range + Brake\n",
        "for contador in range(1000):\n",
        "  print(contador)\n",
        "  if contador == num1:\n",
        "    break"
      ],
      "metadata": {
        "colab": {
          "base_uri": "https://localhost:8080/"
        },
        "id": "pjeDdiOTOob4",
        "outputId": "3f922d7b-1685-4bc4-e8f8-a280fc3a52be"
      },
      "execution_count": null,
      "outputs": [
        {
          "output_type": "stream",
          "name": "stdout",
          "text": [
            "0\n",
            "1\n",
            "2\n",
            "3\n",
            "4\n",
            "5\n",
            "6\n",
            "7\n",
            "8\n",
            "9\n",
            "10\n",
            "11\n",
            "12\n",
            "13\n",
            "14\n",
            "15\n"
          ]
        }
      ]
    },
    {
      "cell_type": "code",
      "source": [],
      "metadata": {
        "id": "TX9J5bNZO4Ek"
      },
      "execution_count": null,
      "outputs": []
    }
  ]
}