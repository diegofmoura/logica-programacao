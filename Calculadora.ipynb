{
  "nbformat": 4,
  "nbformat_minor": 0,
  "metadata": {
    "colab": {
      "provenance": []
    },
    "kernelspec": {
      "name": "python3",
      "display_name": "Python 3"
    },
    "language_info": {
      "name": "python"
    }
  },
  "cells": [
    {
      "cell_type": "markdown",
      "source": [
        "# CALCULADORA"
      ],
      "metadata": {
        "id": "qJiY-6OtVZlM"
      }
    },
    {
      "cell_type": "code",
      "execution_count": 29,
      "metadata": {
        "colab": {
          "base_uri": "https://localhost:8080/"
        },
        "id": "d5tyl7R9VYZh",
        "outputId": "9263c024-224b-4553-f594-bbfbfbe73c90"
      },
      "outputs": [
        {
          "output_type": "stream",
          "name": "stdout",
          "text": [
            "Calculadora\n",
            "1. Soma\n",
            "2. Subtração\n",
            "3. Multiplicação\n",
            "4. Divisão\n",
            "Escolha uma opção (1-4): 4\n",
            "Digite o primeiro número: 10\n",
            "Digite o segundo número: 10\n",
            "10.0 / 10.0 = 1.0\n"
          ]
        }
      ],
      "source": [
        "print('Calculadora')\n",
        "print('1. Soma')\n",
        "print('2. Subtração')\n",
        "print('3. Multiplicação')\n",
        "print('4. Divisão')\n",
        "\n",
        "\n",
        "escolha = int(input('Escolha uma opção (1-4): '))\n",
        "\n",
        "if escolha >= 1 and escolha <= 4:\n",
        " num1 = float(input(\"Digite o primeiro número: \"))\n",
        " num2 = float(input(\"Digite o segundo número: \"))\n",
        "\n",
        "if escolha == 1:\n",
        " resultado = num1 + num2\n",
        " print(f\"{num1} + {num2} = {resultado}\")\n",
        "\n",
        "elif escolha == 2:\n",
        " resultado = num1 - num2\n",
        " print(f\"{num1} - {num2} = {resultado}\")\n",
        "\n",
        "elif escolha == 3:\n",
        " resultado = num1 * num2\n",
        " print(f\"{num1} * {num2} = {resultado}\")\n",
        "\n",
        "elif escolha == 4:\n",
        " resultado = num1 / num2\n",
        " print(f\"{num1} / {num2} = {resultado}\")\n",
        "\n",
        "else:\n",
        " print(\"Opção inválida\")\n",
        "\n"
      ]
    },
    {
      "cell_type": "code",
      "source": [],
      "metadata": {
        "id": "be56to8MYP01"
      },
      "execution_count": null,
      "outputs": []
    }
  ]
}